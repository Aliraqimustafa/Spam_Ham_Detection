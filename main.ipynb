{
 "cells": [
  {
   "cell_type": "code",
   "execution_count": 1,
   "id": "e1fb92f8",
   "metadata": {},
   "outputs": [
    {
     "data": {
      "text/html": [
       "<div>\n",
       "<style scoped>\n",
       "    .dataframe tbody tr th:only-of-type {\n",
       "        vertical-align: middle;\n",
       "    }\n",
       "\n",
       "    .dataframe tbody tr th {\n",
       "        vertical-align: top;\n",
       "    }\n",
       "\n",
       "    .dataframe thead th {\n",
       "        text-align: right;\n",
       "    }\n",
       "</style>\n",
       "<table border=\"1\" class=\"dataframe\">\n",
       "  <thead>\n",
       "    <tr style=\"text-align: right;\">\n",
       "      <th></th>\n",
       "      <th>Text</th>\n",
       "      <th>Spam</th>\n",
       "    </tr>\n",
       "  </thead>\n",
       "  <tbody>\n",
       "    <tr>\n",
       "      <th>0</th>\n",
       "      <td>Subject: naturally irresistible your corporate...</td>\n",
       "      <td>1</td>\n",
       "    </tr>\n",
       "    <tr>\n",
       "      <th>1</th>\n",
       "      <td>Subject: the stock trading gunslinger  fanny i...</td>\n",
       "      <td>1</td>\n",
       "    </tr>\n",
       "    <tr>\n",
       "      <th>2</th>\n",
       "      <td>Subject: unbelievable new homes made easy  im ...</td>\n",
       "      <td>1</td>\n",
       "    </tr>\n",
       "    <tr>\n",
       "      <th>3</th>\n",
       "      <td>Subject: 4 color printing special  request add...</td>\n",
       "      <td>1</td>\n",
       "    </tr>\n",
       "    <tr>\n",
       "      <th>4</th>\n",
       "      <td>Subject: do not have money , get software cds ...</td>\n",
       "      <td>1</td>\n",
       "    </tr>\n",
       "  </tbody>\n",
       "</table>\n",
       "</div>"
      ],
      "text/plain": [
       "                                                Text  Spam\n",
       "0  Subject: naturally irresistible your corporate...     1\n",
       "1  Subject: the stock trading gunslinger  fanny i...     1\n",
       "2  Subject: unbelievable new homes made easy  im ...     1\n",
       "3  Subject: 4 color printing special  request add...     1\n",
       "4  Subject: do not have money , get software cds ...     1"
      ]
     },
     "execution_count": 1,
     "metadata": {},
     "output_type": "execute_result"
    }
   ],
   "source": [
    "import numpy as np\n",
    "import pandas as pd\n",
    "\n",
    "path = r\"C:\\Users\\2022\\Desktop\\test\\emails.csv\"\n",
    "df = pd.read_csv(path)\n",
    "df.head()"
   ]
  },
  {
   "cell_type": "code",
   "execution_count": 2,
   "id": "c63b2c39",
   "metadata": {},
   "outputs": [
    {
     "data": {
      "text/plain": [
       "\"Subject: naturally irresistible your corporate identity  lt is really hard to recollect a company : the  market is full of suqgestions and the information isoverwhelminq ; but a good  catchy logo , stylish statlonery and outstanding website  will make the task much easier .  we do not promise that havinq ordered a iogo your  company will automaticaily become a world ieader : it isguite ciear that  without good products , effective business organization and practicable aim it  will be hotat nowadays market ; but we do promise that your marketing efforts  will become much more effective . here is the list of clear  benefits : creativeness : hand - made , original logos , specially done  to reflect your distinctive company image . convenience : logo and stationery  are provided in all formats ; easy - to - use content management system letsyou  change your website content and even its structure . promptness : you  will see logo drafts within three business days . affordability : your  marketing break - through shouldn ' t make gaps in your budget . 100 % satisfaction  guaranteed : we provide unlimited amount of changes with no extra fees for you to  be surethat you will love the result of this collaboration . have a look at our  portfolio _ _ _ _ _ _ _ _ _ _ _ _ _ _ _ _ _ _ _ _ _ _ _ _ _ _ _ _ _ _ _ _ _ _ _ _ _ _ _ _ _ _ _ _ _ _ _ _ _ _ _ _ not interested . . . _ _ _ _ _ _ _ _ _ _ _ _ _ _ _ _ _ _ _ _ _ _ _ _ _ _ _ _ _ _ _ _ _ _ _ _ _ _ _ _ _ _ _ _ _ _ _ _ _ _ _ _\""
      ]
     },
     "execution_count": 2,
     "metadata": {},
     "output_type": "execute_result"
    }
   ],
   "source": [
    "df.Text[0]"
   ]
  },
  {
   "cell_type": "code",
   "execution_count": 23,
   "id": "d76b7382",
   "metadata": {},
   "outputs": [
    {
     "data": {
      "text/plain": [
       "(5728, 3)"
      ]
     },
     "execution_count": 23,
     "metadata": {},
     "output_type": "execute_result"
    }
   ],
   "source": [
    "df.shape"
   ]
  },
  {
   "cell_type": "code",
   "execution_count": 3,
   "id": "7146a308",
   "metadata": {},
   "outputs": [],
   "source": [
    "def len_text(text):\n",
    "    return len(text)"
   ]
  },
  {
   "cell_type": "code",
   "execution_count": 4,
   "id": "814a3661",
   "metadata": {},
   "outputs": [],
   "source": [
    "df['len_text'] = df.Text.apply(len_text)"
   ]
  },
  {
   "cell_type": "code",
   "execution_count": 5,
   "id": "39a3f326",
   "metadata": {},
   "outputs": [],
   "source": [
    "spam_len = df['len_text'][df['Spam']==1]\n",
    "ham_len  = df['len_text'][df['Spam']==0]"
   ]
  },
  {
   "cell_type": "code",
   "execution_count": 6,
   "id": "01919bdf",
   "metadata": {},
   "outputs": [
    {
     "data": {
      "text/plain": [
       "<BarContainer object of 2 artists>"
      ]
     },
     "execution_count": 6,
     "metadata": {},
     "output_type": "execute_result"
    },
    {
     "data": {
      "image/png": "[encoded data removed]",
      "text/plain": [
       "<Figure size 640x480 with 1 Axes>"
      ]
     },
     "metadata": {},
     "output_type": "display_data"
    }
   ],
   "source": [
    "import matplotlib.pyplot as plt\n",
    "plt.bar(['ham','spam'],[len(ham_len),len(spam_len)])"
   ]
  },
  {
   "cell_type": "code",
   "execution_count": 14,
   "id": "052c6a28",
   "metadata": {},
   "outputs": [
    {
     "data": {
      "image/png": "[encoded data removed]",
      "text/plain": [
       "<Figure size 640x480 with 1 Axes>"
      ]
     },
     "metadata": {},
     "output_type": "display_data"
    }
   ],
   "source": [
    "plt.hist(np.log(spam_len), bins=50, alpha=0.5, color='blue', label='spam')\n",
    "plt.hist(np.log(ham_len), bins=50, alpha=0.5, color='black', label='ham')\n",
    "plt.xlabel('Length of Email')\n",
    "plt.ylabel('Frequency')\n",
    "plt.title('Distribution of Email Length')\n",
    "plt.legend(loc='upper right')\n",
    "plt.show()"
   ]
  },
  {
   "cell_type": "code",
   "execution_count": 18,
   "id": "8665fc66",
   "metadata": {},
   "outputs": [],
   "source": [
    "from nltk.corpus import stopwords\n",
    "stop_words = set(stopwords.words('english'))\n",
    "def preprocessing(text):\n",
    "    text  = text.lower()\n",
    "    text  = [word for word in text.split() if word not in stop_words]\n",
    "    text  = ' '.join(text)\n",
    "    return text"
   ]
  },
  {
   "cell_type": "code",
   "execution_count": 19,
   "id": "976e20d3",
   "metadata": {},
   "outputs": [],
   "source": [
    "df['Text'] = df['Text'].apply(preprocessing)"
   ]
  },
  {
   "cell_type": "code",
   "execution_count": 22,
   "id": "d0118024",
   "metadata": {},
   "outputs": [],
   "source": [
    "e_mail = df['Text'].values"
   ]
  },
  {
   "cell_type": "code",
   "execution_count": 24,
   "id": "21070510",
   "metadata": {},
   "outputs": [],
   "source": [
    "from sklearn.feature_extraction.text import TfidfVectorizer\n",
    "tfidf_vectorizer = TfidfVectorizer(max_features=1500)\n",
    "tfidf = tfidf_vectorizer.fit_transform(e_mail)"
   ]
  },
  {
   "cell_type": "code",
   "execution_count": 26,
   "id": "52c30492",
   "metadata": {},
   "outputs": [],
   "source": [
    "X = tfidf.toarray()\n",
    "Y = df['Spam']"
   ]
  },
  {
   "cell_type": "code",
   "execution_count": 28,
   "id": "62a25e37",
   "metadata": {},
   "outputs": [],
   "source": [
    "from sklearn.model_selection import train_test_split\n",
    "x_train,x_test , y_train,y_test = train_test_split(X,Y,test_size=.2,random_state=45)"
   ]
  },
  {
   "cell_type": "code",
   "execution_count": 30,
   "id": "926a7df1",
   "metadata": {},
   "outputs": [],
   "source": [
    "from sklearn.ensemble import RandomForestClassifier\n",
    "model = RandomForestClassifier(n_estimators=100,n_jobs=-1)"
   ]
  },
  {
   "cell_type": "code",
   "execution_count": 31,
   "id": "d06d7fdf",
   "metadata": {},
   "outputs": [
    {
     "data": {
      "text/plain": [
       "RandomForestClassifier(n_jobs=-1)"
      ]
     },
     "execution_count": 31,
     "metadata": {},
     "output_type": "execute_result"
    }
   ],
   "source": [
    "model.fit(x_train,y_train)"
   ]
  },
  {
   "cell_type": "code",
   "execution_count": 34,
   "id": "de31b7e2",
   "metadata": {},
   "outputs": [
    {
     "data": {
      "text/plain": [
       "0.9997817546922741"
      ]
     },
     "execution_count": 34,
     "metadata": {},
     "output_type": "execute_result"
    }
   ],
   "source": [
    "model.score(x_train,y_train)"
   ]
  },
  {
   "cell_type": "code",
   "execution_count": 35,
   "id": "e8e3d151",
   "metadata": {},
   "outputs": [
    {
     "data": {
      "text/plain": [
       "0.9860383944153578"
      ]
     },
     "execution_count": 35,
     "metadata": {},
     "output_type": "execute_result"
    }
   ],
   "source": [
    "model.score(x_test,y_test)"
   ]
  },
  {
   "cell_type": "code",
   "execution_count": 63,
   "id": "4743646c",
   "metadata": {},
   "outputs": [],
   "source": [
    "txt_test = '''u/aimustafa\n",
    "Reddit runs on votes\n",
    "Next to each post and comment you’ll notice little arrows. One arrow points up and one arrow points down. These are buttons that allow you to ‟upvote” or ‟downvote” content. Upvotes show that redditors think content is positively contributing to a community or the site as a whole. Downvotes mean redditors think that content should never see the light of day. If you like something, be it a post or a comment, and you think it contributes to a conversation, upvote it! On Reddit, that’s just considered good manners.\n",
    "Watch to learn more\n",
    "All the action is in the comments\n",
    "Replying to posts and comments is a great way to get a feel for a community and establish yourself before posting. You can format your comment, and even highlight text that contains a spoiler. To reply to someone else’s comment, click or tap ‟reply” under their comment and have at it.\n",
    "Here are some posts you may like:\n",
    "r/houseplants\n",
    "u/Zealousideal-Self722 • 1 month ago\n",
    "7 Awards\n",
    "Excited to be almost finished with my cacti shelves, just need to add trim.\n",
    "11.7k\t\t\n",
    "244\n",
    "Share\n",
    "Award\n",
    "\n",
    "r/GuiltyDogs\n",
    "u/mffl1114 • 20 days ago\n",
    "1 Award\n",
    "She likes to hide in the bathtub when she’s in trouble\t\t\n",
    "772\t\t\n",
    "8\n",
    "Share\n",
    "Award\n",
    "\n",
    "r/DigitalArt\n",
    "u/Riisiwaanzz • 2 months ago\n",
    "4 Awards\n",
    "Committee of Frogs - digital, by me 2022\t\t\n",
    "1733\t\t\n",
    "19\n",
    "Share\n",
    "Award\n",
    "Have fun voting and commenting as you explore communities and start contributing. We wish you well as you begin your journey into the weird and wonderful world of Reddit.\n",
    " \n",
    "Cheers,\n",
    " \n",
    "Reddit\n",
    "P.S. Looking for additional help navigating Reddit? Check \n",
    "'''\n",
    "txt_test = preprocessing(txt_test)\n",
    "txt_test = tfidf_vectorizer.transform([txt_test]).toarray()"
   ]
  },
  {
   "cell_type": "code",
   "execution_count": 64,
   "id": "6a27e6bf",
   "metadata": {},
   "outputs": [],
   "source": [
    "pred_dict = {\n",
    "    0 : 'Ham',\n",
    "    1 : 'Spam'\n",
    "}"
   ]
  },
  {
   "cell_type": "code",
   "execution_count": 65,
   "id": "22c9fb0b",
   "metadata": {},
   "outputs": [
    {
     "name": "stdout",
     "output_type": "stream",
     "text": [
      "Spam\n"
     ]
    }
   ],
   "source": [
    "pred = model.predict(txt_test)[0]\n",
    "print(\n",
    "pred_dict[pred]\n",
    ")"
   ]
  },
  {
   "cell_type": "code",
   "execution_count": null,
   "id": "0cfa95c5",
   "metadata": {},
   "outputs": [],
   "source": []
  }
 ],
 "metadata": {
  "kernelspec": {
   "display_name": "Python 3 (ipykernel)",
   "language": "python",
   "name": "python3"
  },
  "language_info": {
   "codemirror_mode": {
    "name": "ipython",
    "version": 3
   },
   "file_extension": ".py",
   "mimetype": "text/x-python",
   "name": "python",
   "nbconvert_exporter": "python",
   "pygments_lexer": "ipython3",
   "version": "3.9.13"
  }
 },
 "nbformat": 4,
 "nbformat_minor": 5
}
